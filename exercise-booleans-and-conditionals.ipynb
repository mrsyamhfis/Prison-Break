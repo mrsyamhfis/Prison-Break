{
 "cells": [
  {
   "cell_type": "markdown",
   "id": "599f9941",
   "metadata": {
    "papermill": {
     "duration": 0.008742,
     "end_time": "2022-11-23T14:29:28.153722",
     "exception": false,
     "start_time": "2022-11-23T14:29:28.144980",
     "status": "completed"
    },
    "tags": []
   },
   "source": [
    "**This notebook is an exercise in the [Python](https://www.kaggle.com/learn/python) course.  You can reference the tutorial at [this link](https://www.kaggle.com/colinmorris/booleans-and-conditionals).**\n",
    "\n",
    "---\n"
   ]
  },
  {
   "cell_type": "markdown",
   "id": "fd897fff",
   "metadata": {
    "papermill": {
     "duration": 0.007112,
     "end_time": "2022-11-23T14:29:28.168496",
     "exception": false,
     "start_time": "2022-11-23T14:29:28.161384",
     "status": "completed"
    },
    "tags": []
   },
   "source": [
    "In this exercise, you'll put to work what you have learned about booleans and conditionals.\n",
    "\n",
    "To get started, **run the setup code below** before writing your own code (and if you leave this notebook and come back later, don't forget to run the setup code again)."
   ]
  },
  {
   "cell_type": "code",
   "execution_count": 1,
   "id": "2cd38d47",
   "metadata": {
    "execution": {
     "iopub.execute_input": "2022-11-23T14:29:28.185860Z",
     "iopub.status.busy": "2022-11-23T14:29:28.185077Z",
     "iopub.status.idle": "2022-11-23T14:29:28.246665Z",
     "shell.execute_reply": "2022-11-23T14:29:28.244716Z"
    },
    "papermill": {
     "duration": 0.073954,
     "end_time": "2022-11-23T14:29:28.249845",
     "exception": false,
     "start_time": "2022-11-23T14:29:28.175891",
     "status": "completed"
    },
    "tags": []
   },
   "outputs": [
    {
     "name": "stdout",
     "output_type": "stream",
     "text": [
      "Setup complete.\n"
     ]
    }
   ],
   "source": [
    "from learntools.core import binder; binder.bind(globals())\n",
    "from learntools.python.ex3 import *\n",
    "print('Setup complete.')"
   ]
  },
  {
   "cell_type": "markdown",
   "id": "4acdcebb",
   "metadata": {
    "papermill": {
     "duration": 0.007427,
     "end_time": "2022-11-23T14:29:28.265273",
     "exception": false,
     "start_time": "2022-11-23T14:29:28.257846",
     "status": "completed"
    },
    "tags": []
   },
   "source": [
    "# 1.\n",
    "\n",
    "Many programming languages have [`sign`](https://en.wikipedia.org/wiki/Sign_function) available as a built-in function. Python doesn't, but we can define our own!\n",
    "\n",
    "In the cell below, define a function called `sign` which takes a numerical argument and returns -1 if it's negative, 1 if it's positive, and 0 if it's 0."
   ]
  },
  {
   "cell_type": "code",
   "execution_count": 2,
   "id": "99557b71",
   "metadata": {
    "execution": {
     "iopub.execute_input": "2022-11-23T14:29:28.282256Z",
     "iopub.status.busy": "2022-11-23T14:29:28.281830Z",
     "iopub.status.idle": "2022-11-23T14:29:28.293530Z",
     "shell.execute_reply": "2022-11-23T14:29:28.292433Z"
    },
    "papermill": {
     "duration": 0.023042,
     "end_time": "2022-11-23T14:29:28.295832",
     "exception": false,
     "start_time": "2022-11-23T14:29:28.272790",
     "status": "completed"
    },
    "tags": []
   },
   "outputs": [
    {
     "data": {
      "application/javascript": [
       "parent.postMessage({\"jupyterEvent\": \"custom.exercise_interaction\", \"data\": {\"outcomeType\": 1, \"valueTowardsCompletion\": 0.2, \"interactionType\": 1, \"questionType\": 2, \"questionId\": \"1_SignFunctionProblem\", \"learnToolsVersion\": \"0.3.4\", \"failureMessage\": \"\", \"exceptionClass\": \"\", \"trace\": \"\"}}, \"*\")"
      ],
      "text/plain": [
       "<IPython.core.display.Javascript object>"
      ]
     },
     "metadata": {},
     "output_type": "display_data"
    },
    {
     "data": {
      "text/markdown": [
       "<span style=\"color:#33cc33\">Correct</span>"
      ],
      "text/plain": [
       "Correct"
      ]
     },
     "metadata": {},
     "output_type": "display_data"
    }
   ],
   "source": [
    "# Your code goes here. Define a function called 'sign'\n",
    "def sign(num):\n",
    "    if num < 0:\n",
    "        return -1\n",
    "    elif num > 0:\n",
    "        return 1\n",
    "    else:\n",
    "        return 0\n",
    "# Check your answer\n",
    "q1.check()"
   ]
  },
  {
   "cell_type": "code",
   "execution_count": 3,
   "id": "a5039cf6",
   "metadata": {
    "execution": {
     "iopub.execute_input": "2022-11-23T14:29:28.315040Z",
     "iopub.status.busy": "2022-11-23T14:29:28.314560Z",
     "iopub.status.idle": "2022-11-23T14:29:28.323243Z",
     "shell.execute_reply": "2022-11-23T14:29:28.322422Z"
    },
    "papermill": {
     "duration": 0.021894,
     "end_time": "2022-11-23T14:29:28.325629",
     "exception": false,
     "start_time": "2022-11-23T14:29:28.303735",
     "status": "completed"
    },
    "tags": []
   },
   "outputs": [
    {
     "data": {
      "application/javascript": [
       "parent.postMessage({\"jupyterEvent\": \"custom.exercise_interaction\", \"data\": {\"interactionType\": 3, \"questionType\": 2, \"questionId\": \"1_SignFunctionProblem\", \"learnToolsVersion\": \"0.3.4\", \"valueTowardsCompletion\": 0.0, \"failureMessage\": \"\", \"exceptionClass\": \"\", \"trace\": \"\", \"outcomeType\": 4}}, \"*\")"
      ],
      "text/plain": [
       "<IPython.core.display.Javascript object>"
      ]
     },
     "metadata": {},
     "output_type": "display_data"
    },
    {
     "data": {
      "text/markdown": [
       "<span style=\"color:#33cc99\">Solution:</span> \n",
       "```python\n",
       "def sign(x):\n",
       "    if x > 0:\n",
       "        return 1\n",
       "    elif x < 0:\n",
       "        return -1\n",
       "    else:\n",
       "        return 0\n",
       "```"
      ],
      "text/plain": [
       "Solution: \n",
       "```python\n",
       "def sign(x):\n",
       "    if x > 0:\n",
       "        return 1\n",
       "    elif x < 0:\n",
       "        return -1\n",
       "    else:\n",
       "        return 0\n",
       "```"
      ]
     },
     "metadata": {},
     "output_type": "display_data"
    }
   ],
   "source": [
    "q1.solution()"
   ]
  },
  {
   "cell_type": "markdown",
   "id": "42a6bc4a",
   "metadata": {
    "papermill": {
     "duration": 0.008337,
     "end_time": "2022-11-23T14:29:28.342837",
     "exception": false,
     "start_time": "2022-11-23T14:29:28.334500",
     "status": "completed"
    },
    "tags": []
   },
   "source": [
    "# 2.\n",
    "\n",
    "We've decided to add \"logging\" to our `to_smash` function from the previous exercise."
   ]
  },
  {
   "cell_type": "code",
   "execution_count": 4,
   "id": "3becbc1a",
   "metadata": {
    "execution": {
     "iopub.execute_input": "2022-11-23T14:29:28.361980Z",
     "iopub.status.busy": "2022-11-23T14:29:28.361541Z",
     "iopub.status.idle": "2022-11-23T14:29:28.371263Z",
     "shell.execute_reply": "2022-11-23T14:29:28.369775Z"
    },
    "papermill": {
     "duration": 0.022114,
     "end_time": "2022-11-23T14:29:28.373509",
     "exception": false,
     "start_time": "2022-11-23T14:29:28.351395",
     "status": "completed"
    },
    "tags": []
   },
   "outputs": [
    {
     "name": "stdout",
     "output_type": "stream",
     "text": [
      "Splitting 91 candies\n"
     ]
    },
    {
     "data": {
      "text/plain": [
       "1"
      ]
     },
     "execution_count": 4,
     "metadata": {},
     "output_type": "execute_result"
    }
   ],
   "source": [
    "def to_smash(total_candies):\n",
    "    \"\"\"Return the number of leftover candies that must be smashed after distributing\n",
    "    the given number of candies evenly between 3 friends.\n",
    "    \n",
    "    >>> to_smash(91)\n",
    "    1\n",
    "    \"\"\"\n",
    "    \n",
    "    print(\"Splitting\", total_candies, \"candies\")\n",
    "    \n",
    "    return total_candies % 3\n",
    "\n",
    "to_smash(91)"
   ]
  },
  {
   "cell_type": "markdown",
   "id": "747e9804",
   "metadata": {
    "papermill": {
     "duration": 0.008008,
     "end_time": "2022-11-23T14:29:28.389864",
     "exception": false,
     "start_time": "2022-11-23T14:29:28.381856",
     "status": "completed"
    },
    "tags": []
   },
   "source": [
    "What happens if we call it with `total_candies = 1`?"
   ]
  },
  {
   "cell_type": "code",
   "execution_count": 5,
   "id": "b0002632",
   "metadata": {
    "execution": {
     "iopub.execute_input": "2022-11-23T14:29:28.409640Z",
     "iopub.status.busy": "2022-11-23T14:29:28.409211Z",
     "iopub.status.idle": "2022-11-23T14:29:28.417078Z",
     "shell.execute_reply": "2022-11-23T14:29:28.415870Z"
    },
    "papermill": {
     "duration": 0.022073,
     "end_time": "2022-11-23T14:29:28.420374",
     "exception": false,
     "start_time": "2022-11-23T14:29:28.398301",
     "status": "completed"
    },
    "tags": []
   },
   "outputs": [
    {
     "name": "stdout",
     "output_type": "stream",
     "text": [
      "Splitting 1 candies\n"
     ]
    },
    {
     "data": {
      "text/plain": [
       "1"
      ]
     },
     "execution_count": 5,
     "metadata": {},
     "output_type": "execute_result"
    }
   ],
   "source": [
    "to_smash(1)"
   ]
  },
  {
   "cell_type": "markdown",
   "id": "bccece66",
   "metadata": {
    "papermill": {
     "duration": 0.013055,
     "end_time": "2022-11-23T14:29:28.443661",
     "exception": false,
     "start_time": "2022-11-23T14:29:28.430606",
     "status": "completed"
    },
    "tags": []
   },
   "source": [
    "That isn't great grammar!\n",
    "\n",
    "Modify the definition in the cell below to correct the grammar of our print statement. (If there's only one candy, we should use the singular \"candy\" instead of the plural \"candies\")"
   ]
  },
  {
   "cell_type": "code",
   "execution_count": 6,
   "id": "76df9283",
   "metadata": {
    "execution": {
     "iopub.execute_input": "2022-11-23T14:29:28.464822Z",
     "iopub.status.busy": "2022-11-23T14:29:28.464462Z",
     "iopub.status.idle": "2022-11-23T14:29:28.473894Z",
     "shell.execute_reply": "2022-11-23T14:29:28.472738Z"
    },
    "papermill": {
     "duration": 0.023195,
     "end_time": "2022-11-23T14:29:28.476466",
     "exception": false,
     "start_time": "2022-11-23T14:29:28.453271",
     "status": "completed"
    },
    "tags": []
   },
   "outputs": [
    {
     "name": "stdout",
     "output_type": "stream",
     "text": [
      "Splitting 91 candies\n",
      "Splitting 1 candy\n"
     ]
    },
    {
     "data": {
      "text/plain": [
       "1"
      ]
     },
     "execution_count": 6,
     "metadata": {},
     "output_type": "execute_result"
    }
   ],
   "source": [
    "def to_smash(total_candies):\n",
    "    \"\"\"Return the number of leftover candies that must be smashed after distributing\n",
    "    the given number of candies evenly between 3 friends.\n",
    "    \n",
    "    >>> to_smash(91)\n",
    "    1\n",
    "    \"\"\"\n",
    "    if total_candies == 1:\n",
    "        print(\"Splitting\", total_candies, \"candy\")\n",
    "    else:\n",
    "        print(\"Splitting\", total_candies, \"candies\")\n",
    "    \n",
    "    return total_candies % 3\n",
    "\n",
    "to_smash(91)\n",
    "to_smash(1)"
   ]
  },
  {
   "cell_type": "markdown",
   "id": "f3259196",
   "metadata": {
    "papermill": {
     "duration": 0.008244,
     "end_time": "2022-11-23T14:29:28.493669",
     "exception": false,
     "start_time": "2022-11-23T14:29:28.485425",
     "status": "completed"
    },
    "tags": []
   },
   "source": [
    "To get credit for completing this problem, and to see the official answer, run the code cell below."
   ]
  },
  {
   "cell_type": "code",
   "execution_count": 7,
   "id": "d73d9628",
   "metadata": {
    "execution": {
     "iopub.execute_input": "2022-11-23T14:29:28.513139Z",
     "iopub.status.busy": "2022-11-23T14:29:28.512736Z",
     "iopub.status.idle": "2022-11-23T14:29:28.521940Z",
     "shell.execute_reply": "2022-11-23T14:29:28.520669Z"
    },
    "papermill": {
     "duration": 0.021908,
     "end_time": "2022-11-23T14:29:28.524200",
     "exception": false,
     "start_time": "2022-11-23T14:29:28.502292",
     "status": "completed"
    },
    "tags": []
   },
   "outputs": [
    {
     "data": {
      "application/javascript": [
       "parent.postMessage({\"jupyterEvent\": \"custom.exercise_interaction\", \"data\": {\"interactionType\": 3, \"questionType\": 4, \"questionId\": \"2_PluralizationProblem\", \"learnToolsVersion\": \"0.3.4\", \"valueTowardsCompletion\": 0.0, \"failureMessage\": \"\", \"exceptionClass\": \"\", \"trace\": \"\", \"outcomeType\": 4}}, \"*\")"
      ],
      "text/plain": [
       "<IPython.core.display.Javascript object>"
      ]
     },
     "metadata": {},
     "output_type": "display_data"
    },
    {
     "data": {
      "text/markdown": [
       "<span style=\"color:#33cc99\">Solution:</span> A straightforward (and totally fine) solution is to replace the original `print` call with:\n",
       "\n",
       "```python\n",
       "if total_candies == 1:\n",
       "    print(\"Splitting 1 candy\")\n",
       "else:\n",
       "    print(\"Splitting\", total_candies, \"candies\")\n",
       "```\n",
       "\n",
       "Here's a slightly more succinct solution using a conditional expression:\n",
       "\n",
       "```python\n",
       "print(\"Splitting\", total_candies, \"candy\" if total_candies == 1 else \"candies\")\n",
       "```"
      ],
      "text/plain": [
       "Solution: A straightforward (and totally fine) solution is to replace the original `print` call with:\n",
       "\n",
       "```python\n",
       "if total_candies == 1:\n",
       "    print(\"Splitting 1 candy\")\n",
       "else:\n",
       "    print(\"Splitting\", total_candies, \"candies\")\n",
       "```\n",
       "\n",
       "Here's a slightly more succinct solution using a conditional expression:\n",
       "\n",
       "```python\n",
       "print(\"Splitting\", total_candies, \"candy\" if total_candies == 1 else \"candies\")\n",
       "```"
      ]
     },
     "metadata": {},
     "output_type": "display_data"
    }
   ],
   "source": [
    "# Check your answer (Run this code cell to receive credit!)\n",
    "q2.solution()"
   ]
  },
  {
   "cell_type": "markdown",
   "id": "1e4f8240",
   "metadata": {
    "papermill": {
     "duration": 0.008575,
     "end_time": "2022-11-23T14:29:28.541638",
     "exception": false,
     "start_time": "2022-11-23T14:29:28.533063",
     "status": "completed"
    },
    "tags": []
   },
   "source": [
    "# 3. <span title=\"A bit spicy\" style=\"color: darkgreen \">🌶️</span>\n",
    "\n",
    "In the tutorial, we talked about deciding whether we're prepared for the weather. I said that I'm safe from today's weather if...\n",
    "- I have an umbrella...\n",
    "- or if the rain isn't too heavy and I have a hood...\n",
    "- otherwise, I'm still fine unless it's raining *and* it's a workday\n",
    "\n",
    "The function below uses our first attempt at turning this logic into a Python expression. I claimed that there was a bug in that code. Can you find it?\n",
    "\n",
    "To prove that `prepared_for_weather` is buggy, come up with a set of inputs where either:\n",
    "- the function returns `False` (but should have returned `True`), or\n",
    "- the function returned `True` (but should have returned `False`).\n",
    "\n",
    "To get credit for completing this question, your code should return a <font color='#33cc33'>Correct</font> result."
   ]
  },
  {
   "cell_type": "code",
   "execution_count": 8,
   "id": "5c3fc1bd",
   "metadata": {
    "execution": {
     "iopub.execute_input": "2022-11-23T14:29:28.561458Z",
     "iopub.status.busy": "2022-11-23T14:29:28.560982Z",
     "iopub.status.idle": "2022-11-23T14:29:28.577324Z",
     "shell.execute_reply": "2022-11-23T14:29:28.575860Z"
    },
    "papermill": {
     "duration": 0.029123,
     "end_time": "2022-11-23T14:29:28.579594",
     "exception": false,
     "start_time": "2022-11-23T14:29:28.550471",
     "status": "completed"
    },
    "tags": []
   },
   "outputs": [
    {
     "name": "stdout",
     "output_type": "stream",
     "text": [
      "False\n"
     ]
    },
    {
     "data": {
      "application/javascript": [
       "parent.postMessage({\"jupyterEvent\": \"custom.exercise_interaction\", \"data\": {\"outcomeType\": 1, \"valueTowardsCompletion\": 0.2, \"interactionType\": 1, \"questionType\": 1, \"questionId\": \"3_WeatherDebug\", \"learnToolsVersion\": \"0.3.4\", \"failureMessage\": \"\", \"exceptionClass\": \"\", \"trace\": \"\"}}, \"*\")"
      ],
      "text/plain": [
       "<IPython.core.display.Javascript object>"
      ]
     },
     "metadata": {},
     "output_type": "display_data"
    },
    {
     "data": {
      "text/markdown": [
       "<span style=\"color:#33cc33\">Correct:</span> \n",
       "\n",
       "One example of a failing test case is:\n",
       "\n",
       "```python\n",
       "have_umbrella = False\n",
       "rain_level = 0.0\n",
       "have_hood = False\n",
       "is_workday = False\n",
       "```\n",
       "\n",
       "Clearly we're prepared for the weather in this case. It's not raining. Not only that, it's not a workday, so we don't even need to leave the house! But our function will return False on these inputs.\n",
       "\n",
       "The key problem is that Python implictly parenthesizes the last part as:\n",
       "\n",
       "```python\n",
       "(not (rain_level > 0)) and is_workday\n",
       "```\n",
       "\n",
       "Whereas what we were trying to express would look more like:\n",
       "\n",
       "```python\n",
       "not (rain_level > 0 and is_workday)\n",
       "```\n"
      ],
      "text/plain": [
       "Correct: \n",
       "\n",
       "One example of a failing test case is:\n",
       "\n",
       "```python\n",
       "have_umbrella = False\n",
       "rain_level = 0.0\n",
       "have_hood = False\n",
       "is_workday = False\n",
       "```\n",
       "\n",
       "Clearly we're prepared for the weather in this case. It's not raining. Not only that, it's not a workday, so we don't even need to leave the house! But our function will return False on these inputs.\n",
       "\n",
       "The key problem is that Python implictly parenthesizes the last part as:\n",
       "\n",
       "```python\n",
       "(not (rain_level > 0)) and is_workday\n",
       "```\n",
       "\n",
       "Whereas what we were trying to express would look more like:\n",
       "\n",
       "```python\n",
       "not (rain_level > 0 and is_workday)\n",
       "```"
      ]
     },
     "metadata": {},
     "output_type": "display_data"
    }
   ],
   "source": [
    "def prepared_for_weather(have_umbrella, rain_level, have_hood, is_workday):\n",
    "    # Don't change this code. Our goal is just to find the bug, not fix it!\n",
    "    return have_umbrella or rain_level < 5 and have_hood or not rain_level > 0 and is_workday\n",
    "\n",
    "# Change the values of these inputs so they represent a case where prepared_for_weather\n",
    "# returns the wrong answer.\n",
    "have_umbrella = False\n",
    "rain_level = 0.0\n",
    "have_hood = False\n",
    "is_workday = False\n",
    "\n",
    "# Check what the function returns given the current values of the variables above\n",
    "actual = prepared_for_weather(have_umbrella, rain_level, have_hood, is_workday)\n",
    "print(actual)\n",
    "\n",
    "# Check your answer\n",
    "q3.check()"
   ]
  },
  {
   "cell_type": "code",
   "execution_count": 9,
   "id": "3c212594",
   "metadata": {
    "execution": {
     "iopub.execute_input": "2022-11-23T14:29:28.609094Z",
     "iopub.status.busy": "2022-11-23T14:29:28.608352Z",
     "iopub.status.idle": "2022-11-23T14:29:28.618177Z",
     "shell.execute_reply": "2022-11-23T14:29:28.616847Z"
    },
    "papermill": {
     "duration": 0.030266,
     "end_time": "2022-11-23T14:29:28.620778",
     "exception": false,
     "start_time": "2022-11-23T14:29:28.590512",
     "status": "completed"
    },
    "tags": []
   },
   "outputs": [
    {
     "data": {
      "application/javascript": [
       "parent.postMessage({\"jupyterEvent\": \"custom.exercise_interaction\", \"data\": {\"interactionType\": 3, \"questionType\": 1, \"questionId\": \"3_WeatherDebug\", \"learnToolsVersion\": \"0.3.4\", \"valueTowardsCompletion\": 0.0, \"failureMessage\": \"\", \"exceptionClass\": \"\", \"trace\": \"\", \"outcomeType\": 4}}, \"*\")"
      ],
      "text/plain": [
       "<IPython.core.display.Javascript object>"
      ]
     },
     "metadata": {},
     "output_type": "display_data"
    },
    {
     "data": {
      "text/markdown": [
       "<span style=\"color:#33cc99\">Solution:</span> One example of a failing test case is:\n",
       "\n",
       "```python\n",
       "have_umbrella = False\n",
       "rain_level = 0.0\n",
       "have_hood = False\n",
       "is_workday = False\n",
       "```\n",
       "\n",
       "Clearly we're prepared for the weather in this case. It's not raining. Not only that, it's not a workday, so we don't even need to leave the house! But our function will return False on these inputs.\n",
       "\n",
       "The key problem is that Python implictly parenthesizes the last part as:\n",
       "\n",
       "```python\n",
       "(not (rain_level > 0)) and is_workday\n",
       "```\n",
       "\n",
       "Whereas what we were trying to express would look more like:\n",
       "\n",
       "```python\n",
       "not (rain_level > 0 and is_workday)\n",
       "```\n"
      ],
      "text/plain": [
       "Solution: One example of a failing test case is:\n",
       "\n",
       "```python\n",
       "have_umbrella = False\n",
       "rain_level = 0.0\n",
       "have_hood = False\n",
       "is_workday = False\n",
       "```\n",
       "\n",
       "Clearly we're prepared for the weather in this case. It's not raining. Not only that, it's not a workday, so we don't even need to leave the house! But our function will return False on these inputs.\n",
       "\n",
       "The key problem is that Python implictly parenthesizes the last part as:\n",
       "\n",
       "```python\n",
       "(not (rain_level > 0)) and is_workday\n",
       "```\n",
       "\n",
       "Whereas what we were trying to express would look more like:\n",
       "\n",
       "```python\n",
       "not (rain_level > 0 and is_workday)\n",
       "```"
      ]
     },
     "metadata": {},
     "output_type": "display_data"
    }
   ],
   "source": [
    "#q3.hint()\n",
    "q3.solution()"
   ]
  },
  {
   "cell_type": "markdown",
   "id": "f2cb5dac",
   "metadata": {
    "papermill": {
     "duration": 0.009675,
     "end_time": "2022-11-23T14:29:28.641153",
     "exception": false,
     "start_time": "2022-11-23T14:29:28.631478",
     "status": "completed"
    },
    "tags": []
   },
   "source": [
    "# 4.\n",
    "\n",
    "The function `is_negative` below is implemented correctly - it returns True if the given number is negative and False otherwise.\n",
    "\n",
    "However, it's more verbose than it needs to be. We can actually reduce the number of lines of code in this function by *75%* while keeping the same behaviour. \n",
    "\n",
    "See if you can come up with an equivalent body that uses just **one line** of code, and put it in the function `concise_is_negative`. (HINT: you don't even need Python's ternary syntax)"
   ]
  },
  {
   "cell_type": "code",
   "execution_count": 10,
   "id": "bb023650",
   "metadata": {
    "execution": {
     "iopub.execute_input": "2022-11-23T14:29:28.663037Z",
     "iopub.status.busy": "2022-11-23T14:29:28.662379Z",
     "iopub.status.idle": "2022-11-23T14:29:28.672064Z",
     "shell.execute_reply": "2022-11-23T14:29:28.671114Z"
    },
    "papermill": {
     "duration": 0.023139,
     "end_time": "2022-11-23T14:29:28.674310",
     "exception": false,
     "start_time": "2022-11-23T14:29:28.651171",
     "status": "completed"
    },
    "tags": []
   },
   "outputs": [
    {
     "data": {
      "application/javascript": [
       "parent.postMessage({\"jupyterEvent\": \"custom.exercise_interaction\", \"data\": {\"outcomeType\": 4, \"interactionType\": 1, \"questionType\": 2, \"questionId\": \"4_ConciseIsNegative\", \"learnToolsVersion\": \"0.3.4\", \"valueTowardsCompletion\": 0.0, \"failureMessage\": \"\", \"exceptionClass\": \"\", \"trace\": \"\"}}, \"*\")"
      ],
      "text/plain": [
       "<IPython.core.display.Javascript object>"
      ]
     },
     "metadata": {},
     "output_type": "display_data"
    },
    {
     "data": {
      "text/markdown": [
       "<span style=\"color:#ccaa33\">Check:</span> When you've updated the starter code, `check()` will tell you whether your code is correct. "
      ],
      "text/plain": [
       "Check: When you've updated the starter code, `check()` will tell you whether your code is correct. "
      ]
     },
     "metadata": {},
     "output_type": "display_data"
    }
   ],
   "source": [
    "def is_negative(number):\n",
    "    if number < 0:\n",
    "        return True\n",
    "    else:\n",
    "        return False\n",
    "\n",
    "def concise_is_negative(number):\n",
    "    pass # Your code goes here (try to keep it to one line!)\n",
    "\n",
    "# Check your answer\n",
    "q4.check()"
   ]
  },
  {
   "cell_type": "code",
   "execution_count": 11,
   "id": "278773fc",
   "metadata": {
    "execution": {
     "iopub.execute_input": "2022-11-23T14:29:28.698565Z",
     "iopub.status.busy": "2022-11-23T14:29:28.698167Z",
     "iopub.status.idle": "2022-11-23T14:29:28.702561Z",
     "shell.execute_reply": "2022-11-23T14:29:28.701561Z"
    },
    "papermill": {
     "duration": 0.020438,
     "end_time": "2022-11-23T14:29:28.704722",
     "exception": false,
     "start_time": "2022-11-23T14:29:28.684284",
     "status": "completed"
    },
    "tags": []
   },
   "outputs": [],
   "source": [
    "#q4.hint()\n",
    "#q4.solution()"
   ]
  },
  {
   "cell_type": "markdown",
   "id": "52ad96c4",
   "metadata": {
    "papermill": {
     "duration": 0.009558,
     "end_time": "2022-11-23T14:29:28.724330",
     "exception": false,
     "start_time": "2022-11-23T14:29:28.714772",
     "status": "completed"
    },
    "tags": []
   },
   "source": [
    "# 5a.\n",
    "\n",
    "The boolean variables `ketchup`, `mustard` and `onion` represent whether a customer wants a particular topping on their hot dog. We want to implement a number of boolean functions that correspond to some yes-or-no questions about the customer's order. For example:"
   ]
  },
  {
   "cell_type": "code",
   "execution_count": 12,
   "id": "004fd2a0",
   "metadata": {
    "execution": {
     "iopub.execute_input": "2022-11-23T14:29:28.746187Z",
     "iopub.status.busy": "2022-11-23T14:29:28.745736Z",
     "iopub.status.idle": "2022-11-23T14:29:28.751132Z",
     "shell.execute_reply": "2022-11-23T14:29:28.749826Z"
    },
    "papermill": {
     "duration": 0.019207,
     "end_time": "2022-11-23T14:29:28.753430",
     "exception": false,
     "start_time": "2022-11-23T14:29:28.734223",
     "status": "completed"
    },
    "tags": []
   },
   "outputs": [],
   "source": [
    "def onionless(ketchup, mustard, onion):\n",
    "    \"\"\"Return whether the customer doesn't want onions.\n",
    "    \"\"\"\n",
    "    return not onion"
   ]
  },
  {
   "cell_type": "code",
   "execution_count": 13,
   "id": "8b3d4bbb",
   "metadata": {
    "execution": {
     "iopub.execute_input": "2022-11-23T14:29:28.775693Z",
     "iopub.status.busy": "2022-11-23T14:29:28.774588Z",
     "iopub.status.idle": "2022-11-23T14:29:28.786098Z",
     "shell.execute_reply": "2022-11-23T14:29:28.784086Z"
    },
    "papermill": {
     "duration": 0.025651,
     "end_time": "2022-11-23T14:29:28.789033",
     "exception": false,
     "start_time": "2022-11-23T14:29:28.763382",
     "status": "completed"
    },
    "tags": []
   },
   "outputs": [
    {
     "data": {
      "application/javascript": [
       "parent.postMessage({\"jupyterEvent\": \"custom.exercise_interaction\", \"data\": {\"outcomeType\": 1, \"valueTowardsCompletion\": 0.2, \"interactionType\": 1, \"questionType\": 2, \"questionId\": \"5.1_AllToppings\", \"learnToolsVersion\": \"0.3.4\", \"failureMessage\": \"\", \"exceptionClass\": \"\", \"trace\": \"\"}}, \"*\")"
      ],
      "text/plain": [
       "<IPython.core.display.Javascript object>"
      ]
     },
     "metadata": {},
     "output_type": "display_data"
    },
    {
     "data": {
      "text/markdown": [
       "<span style=\"color:#33cc33\">Correct</span>"
      ],
      "text/plain": [
       "Correct"
      ]
     },
     "metadata": {},
     "output_type": "display_data"
    }
   ],
   "source": [
    "def wants_all_toppings(ketchup, mustard, onion):\n",
    "    \"\"\"Return whether the customer wants \"the works\" (all 3 toppings)\n",
    "    \"\"\"\n",
    "    return ketchup and mustard and onion\n",
    "    pass\n",
    "\n",
    "# Check your answer\n",
    "q5.a.check()"
   ]
  },
  {
   "cell_type": "code",
   "execution_count": 14,
   "id": "261d7c0c",
   "metadata": {
    "execution": {
     "iopub.execute_input": "2022-11-23T14:29:28.818741Z",
     "iopub.status.busy": "2022-11-23T14:29:28.817416Z",
     "iopub.status.idle": "2022-11-23T14:29:28.823114Z",
     "shell.execute_reply": "2022-11-23T14:29:28.821472Z"
    },
    "papermill": {
     "duration": 0.02236,
     "end_time": "2022-11-23T14:29:28.826018",
     "exception": false,
     "start_time": "2022-11-23T14:29:28.803658",
     "status": "completed"
    },
    "tags": []
   },
   "outputs": [],
   "source": [
    "#q5.a.hint()\n",
    "#q5.a.solution()"
   ]
  },
  {
   "cell_type": "markdown",
   "id": "f8b2a314",
   "metadata": {
    "papermill": {
     "duration": 0.010132,
     "end_time": "2022-11-23T14:29:28.850390",
     "exception": false,
     "start_time": "2022-11-23T14:29:28.840258",
     "status": "completed"
    },
    "tags": []
   },
   "source": [
    "# 5b.\n",
    "\n",
    "For the next function, fill in the body to match the English description in the docstring. "
   ]
  },
  {
   "cell_type": "code",
   "execution_count": 15,
   "id": "8f9f5a64",
   "metadata": {
    "execution": {
     "iopub.execute_input": "2022-11-23T14:29:28.875409Z",
     "iopub.status.busy": "2022-11-23T14:29:28.874683Z",
     "iopub.status.idle": "2022-11-23T14:29:28.883645Z",
     "shell.execute_reply": "2022-11-23T14:29:28.882556Z"
    },
    "papermill": {
     "duration": 0.025621,
     "end_time": "2022-11-23T14:29:28.886170",
     "exception": false,
     "start_time": "2022-11-23T14:29:28.860549",
     "status": "completed"
    },
    "tags": []
   },
   "outputs": [
    {
     "data": {
      "application/javascript": [
       "parent.postMessage({\"jupyterEvent\": \"custom.exercise_interaction\", \"data\": {\"outcomeType\": 1, \"valueTowardsCompletion\": 0.2, \"interactionType\": 1, \"questionType\": 2, \"questionId\": \"5.2_PlainDog\", \"learnToolsVersion\": \"0.3.4\", \"failureMessage\": \"\", \"exceptionClass\": \"\", \"trace\": \"\"}}, \"*\")"
      ],
      "text/plain": [
       "<IPython.core.display.Javascript object>"
      ]
     },
     "metadata": {},
     "output_type": "display_data"
    },
    {
     "data": {
      "text/markdown": [
       "<span style=\"color:#33cc33\">Correct:</span> \n",
       "\n",
       "One solution looks like:\n",
       "```python\n",
       "return not ketchup and not mustard and not onion\n",
       "```\n",
       "\n",
       "We can also [\"factor out\" the nots](https://en.wikipedia.org/wiki/De_Morgan%27s_laws) to get:\n",
       "\n",
       "```python\n",
       "return not (ketchup or mustard or onion)\n",
       "```"
      ],
      "text/plain": [
       "Correct: \n",
       "\n",
       "One solution looks like:\n",
       "```python\n",
       "return not ketchup and not mustard and not onion\n",
       "```\n",
       "\n",
       "We can also [\"factor out\" the nots](https://en.wikipedia.org/wiki/De_Morgan%27s_laws) to get:\n",
       "\n",
       "```python\n",
       "return not (ketchup or mustard or onion)\n",
       "```"
      ]
     },
     "metadata": {},
     "output_type": "display_data"
    }
   ],
   "source": [
    "def wants_plain_hotdog(ketchup, mustard, onion):\n",
    "    \"\"\"Return whether the customer wants a plain hot dog with no toppings.\n",
    "    \"\"\"\n",
    "    return not (ketchup or mustard or onion)\n",
    "    pass\n",
    "\n",
    "# Check your answer\n",
    "q5.b.check()"
   ]
  },
  {
   "cell_type": "code",
   "execution_count": 16,
   "id": "cfe7f130",
   "metadata": {
    "execution": {
     "iopub.execute_input": "2022-11-23T14:29:28.908540Z",
     "iopub.status.busy": "2022-11-23T14:29:28.908126Z",
     "iopub.status.idle": "2022-11-23T14:29:28.916897Z",
     "shell.execute_reply": "2022-11-23T14:29:28.915996Z"
    },
    "papermill": {
     "duration": 0.022447,
     "end_time": "2022-11-23T14:29:28.919057",
     "exception": false,
     "start_time": "2022-11-23T14:29:28.896610",
     "status": "completed"
    },
    "tags": []
   },
   "outputs": [
    {
     "data": {
      "application/javascript": [
       "parent.postMessage({\"jupyterEvent\": \"custom.exercise_interaction\", \"data\": {\"interactionType\": 2, \"questionType\": 2, \"questionId\": \"5.2_PlainDog\", \"learnToolsVersion\": \"0.3.4\", \"valueTowardsCompletion\": 0.0, \"failureMessage\": \"\", \"exceptionClass\": \"\", \"trace\": \"\", \"outcomeType\": 4}}, \"*\")"
      ],
      "text/plain": [
       "<IPython.core.display.Javascript object>"
      ]
     },
     "metadata": {},
     "output_type": "display_data"
    },
    {
     "data": {
      "text/markdown": [
       "<span style=\"color:#3366cc\">Hint:</span> You'll need to use the `not` operator."
      ],
      "text/plain": [
       "Hint: You'll need to use the `not` operator."
      ]
     },
     "metadata": {},
     "output_type": "display_data"
    }
   ],
   "source": [
    "q5.b.hint()\n",
    "#q5.b.solution()"
   ]
  },
  {
   "cell_type": "markdown",
   "id": "fb320f7d",
   "metadata": {
    "papermill": {
     "duration": 0.010313,
     "end_time": "2022-11-23T14:29:28.940292",
     "exception": false,
     "start_time": "2022-11-23T14:29:28.929979",
     "status": "completed"
    },
    "tags": []
   },
   "source": [
    "# 5c.\n",
    "\n",
    "You know what to do: for the next function, fill in the body to match the English description in the docstring."
   ]
  },
  {
   "cell_type": "code",
   "execution_count": 17,
   "id": "caadc4c3",
   "metadata": {
    "execution": {
     "iopub.execute_input": "2022-11-23T14:29:28.964163Z",
     "iopub.status.busy": "2022-11-23T14:29:28.963481Z",
     "iopub.status.idle": "2022-11-23T14:29:28.972990Z",
     "shell.execute_reply": "2022-11-23T14:29:28.971882Z"
    },
    "papermill": {
     "duration": 0.024417,
     "end_time": "2022-11-23T14:29:28.975245",
     "exception": false,
     "start_time": "2022-11-23T14:29:28.950828",
     "status": "completed"
    },
    "tags": []
   },
   "outputs": [
    {
     "data": {
      "application/javascript": [
       "parent.postMessage({\"jupyterEvent\": \"custom.exercise_interaction\", \"data\": {\"outcomeType\": 1, \"valueTowardsCompletion\": 0.2, \"interactionType\": 1, \"questionType\": 2, \"questionId\": \"5.3_OneSauce\", \"learnToolsVersion\": \"0.3.4\", \"failureMessage\": \"\", \"exceptionClass\": \"\", \"trace\": \"\"}}, \"*\")"
      ],
      "text/plain": [
       "<IPython.core.display.Javascript object>"
      ]
     },
     "metadata": {},
     "output_type": "display_data"
    },
    {
     "data": {
      "text/markdown": [
       "<span style=\"color:#33cc33\">Correct</span>"
      ],
      "text/plain": [
       "Correct"
      ]
     },
     "metadata": {},
     "output_type": "display_data"
    }
   ],
   "source": [
    "def exactly_one_sauce(ketchup, mustard, onion):\n",
    "    \"\"\"Return whether the customer wants either ketchup or mustard, but not both.\n",
    "    (You may be familiar with this operation under the name \"exclusive or\")\n",
    "    \"\"\"\n",
    "    return (ketchup and not mustard) or (mustard and not ketchup)\n",
    "    pass\n",
    "\n",
    "# Check your answer\n",
    "q5.c.check()"
   ]
  },
  {
   "cell_type": "code",
   "execution_count": 18,
   "id": "d80080d7",
   "metadata": {
    "execution": {
     "iopub.execute_input": "2022-11-23T14:29:28.999325Z",
     "iopub.status.busy": "2022-11-23T14:29:28.998566Z",
     "iopub.status.idle": "2022-11-23T14:29:29.002511Z",
     "shell.execute_reply": "2022-11-23T14:29:29.001662Z"
    },
    "papermill": {
     "duration": 0.019348,
     "end_time": "2022-11-23T14:29:29.005598",
     "exception": false,
     "start_time": "2022-11-23T14:29:28.986250",
     "status": "completed"
    },
    "tags": []
   },
   "outputs": [],
   "source": [
    "#q5.c.hint()\n",
    "#q5.c.solution()"
   ]
  },
  {
   "cell_type": "markdown",
   "id": "72091e34",
   "metadata": {
    "papermill": {
     "duration": 0.010269,
     "end_time": "2022-11-23T14:29:29.026701",
     "exception": false,
     "start_time": "2022-11-23T14:29:29.016432",
     "status": "completed"
    },
    "tags": []
   },
   "source": [
    "# 6. <span title=\"A bit spicy\" style=\"color: darkgreen \">🌶️</span>\n",
    "\n",
    "We’ve seen that calling `bool()` on an integer returns `False` if it’s equal to 0 and `True` otherwise. What happens if we call `int()` on a bool? Try it out in the notebook cell below.\n",
    "\n",
    "Can you take advantage of this to write a succinct function that corresponds to the English sentence \"does the customer want exactly one topping?\"?"
   ]
  },
  {
   "cell_type": "code",
   "execution_count": 19,
   "id": "0f0e98e0",
   "metadata": {
    "execution": {
     "iopub.execute_input": "2022-11-23T14:29:29.049931Z",
     "iopub.status.busy": "2022-11-23T14:29:29.049096Z",
     "iopub.status.idle": "2022-11-23T14:29:29.058214Z",
     "shell.execute_reply": "2022-11-23T14:29:29.057235Z"
    },
    "papermill": {
     "duration": 0.023178,
     "end_time": "2022-11-23T14:29:29.060464",
     "exception": false,
     "start_time": "2022-11-23T14:29:29.037286",
     "status": "completed"
    },
    "tags": []
   },
   "outputs": [
    {
     "data": {
      "application/javascript": [
       "parent.postMessage({\"jupyterEvent\": \"custom.exercise_interaction\", \"data\": {\"outcomeType\": 1, \"valueTowardsCompletion\": 0.2, \"interactionType\": 1, \"questionType\": 2, \"questionId\": \"6_OneTopping\", \"learnToolsVersion\": \"0.3.4\", \"failureMessage\": \"\", \"exceptionClass\": \"\", \"trace\": \"\"}}, \"*\")"
      ],
      "text/plain": [
       "<IPython.core.display.Javascript object>"
      ]
     },
     "metadata": {},
     "output_type": "display_data"
    },
    {
     "data": {
      "text/markdown": [
       "<span style=\"color:#33cc33\">Correct:</span> \n",
       "\n",
       "This condition would be pretty complicated to express using just `and`, `or` and `not`, but using boolean-to-integer conversion gives us this short solution:\n",
       "```python\n",
       "return (int(ketchup) + int(mustard) + int(onion)) == 1\n",
       "```\n",
       "\n",
       "Fun fact: we don't technically need to call `int` on the arguments. Just by doing addition with booleans, Python implicitly does the integer conversion. So we could also write...\n",
       "\n",
       "```python\n",
       "return (ketchup + mustard + onion) == 1\n",
       "```"
      ],
      "text/plain": [
       "Correct: \n",
       "\n",
       "This condition would be pretty complicated to express using just `and`, `or` and `not`, but using boolean-to-integer conversion gives us this short solution:\n",
       "```python\n",
       "return (int(ketchup) + int(mustard) + int(onion)) == 1\n",
       "```\n",
       "\n",
       "Fun fact: we don't technically need to call `int` on the arguments. Just by doing addition with booleans, Python implicitly does the integer conversion. So we could also write...\n",
       "\n",
       "```python\n",
       "return (ketchup + mustard + onion) == 1\n",
       "```"
      ]
     },
     "metadata": {},
     "output_type": "display_data"
    }
   ],
   "source": [
    "def exactly_one_topping(ketchup, mustard, onion):\n",
    "    \"\"\"Return whether the customer wants exactly one of the three available toppings\n",
    "    on their hot dog.\n",
    "    \"\"\"\n",
    "    return (ketchup + mustard + onion) == 1\n",
    "    pass\n",
    "\n",
    "# Check your answer\n",
    "q6.check()"
   ]
  },
  {
   "cell_type": "code",
   "execution_count": 20,
   "id": "4de61390",
   "metadata": {
    "execution": {
     "iopub.execute_input": "2022-11-23T14:29:29.084442Z",
     "iopub.status.busy": "2022-11-23T14:29:29.083631Z",
     "iopub.status.idle": "2022-11-23T14:29:29.088634Z",
     "shell.execute_reply": "2022-11-23T14:29:29.087802Z"
    },
    "papermill": {
     "duration": 0.019111,
     "end_time": "2022-11-23T14:29:29.090722",
     "exception": false,
     "start_time": "2022-11-23T14:29:29.071611",
     "status": "completed"
    },
    "tags": []
   },
   "outputs": [],
   "source": [
    "#q6.hint()\n",
    "#q6.solution()"
   ]
  },
  {
   "cell_type": "markdown",
   "id": "f383a7e2",
   "metadata": {
    "papermill": {
     "duration": 0.010547,
     "end_time": "2022-11-23T14:29:29.112243",
     "exception": false,
     "start_time": "2022-11-23T14:29:29.101696",
     "status": "completed"
    },
    "tags": []
   },
   "source": [
    "# Keep Going\n",
    "\n",
    "Learn about **[lists and tuples](https://www.kaggle.com/colinmorris/lists)** to handle multiple items of data in a systematic way."
   ]
  },
  {
   "cell_type": "markdown",
   "id": "8b52e104",
   "metadata": {
    "papermill": {
     "duration": 0.010428,
     "end_time": "2022-11-23T14:29:29.133512",
     "exception": false,
     "start_time": "2022-11-23T14:29:29.123084",
     "status": "completed"
    },
    "tags": []
   },
   "source": [
    "---\n",
    "\n",
    "\n",
    "\n",
    "\n",
    "*Have questions or comments? Visit the [course discussion forum](https://www.kaggle.com/learn/python/discussion) to chat with other learners.*"
   ]
  }
 ],
 "metadata": {
  "kernelspec": {
   "display_name": "Python 3",
   "language": "python",
   "name": "python3"
  },
  "language_info": {
   "codemirror_mode": {
    "name": "ipython",
    "version": 3
   },
   "file_extension": ".py",
   "mimetype": "text/x-python",
   "name": "python",
   "nbconvert_exporter": "python",
   "pygments_lexer": "ipython3",
   "version": "3.7.12"
  },
  "papermill": {
   "default_parameters": {},
   "duration": 10.461964,
   "end_time": "2022-11-23T14:29:29.766656",
   "environment_variables": {},
   "exception": null,
   "input_path": "__notebook__.ipynb",
   "output_path": "__notebook__.ipynb",
   "parameters": {},
   "start_time": "2022-11-23T14:29:19.304692",
   "version": "2.3.4"
  }
 },
 "nbformat": 4,
 "nbformat_minor": 5
}
