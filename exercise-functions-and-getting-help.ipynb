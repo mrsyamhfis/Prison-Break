{
 "cells": [
  {
   "cell_type": "markdown",
   "id": "71d58443",
   "metadata": {
    "papermill": {
     "duration": 0.006601,
     "end_time": "2022-10-07T04:10:05.569851",
     "exception": false,
     "start_time": "2022-10-07T04:10:05.563250",
     "status": "completed"
    },
    "tags": []
   },
   "source": [
    "**This notebook is an exercise in the [Python](https://www.kaggle.com/learn/python) course.  You can reference the tutorial at [this link](https://www.kaggle.com/colinmorris/functions-and-getting-help).**\n",
    "\n",
    "---\n"
   ]
  },
  {
   "cell_type": "markdown",
   "id": "0ea3c8db",
   "metadata": {
    "papermill": {
     "duration": 0.004544,
     "end_time": "2022-10-07T04:10:05.579658",
     "exception": false,
     "start_time": "2022-10-07T04:10:05.575114",
     "status": "completed"
    },
    "tags": []
   },
   "source": [
    "Functions are powerful. Try writing some yourself.\n",
    "\n",
    "As before, don't forget to run the setup code below before jumping into question 1."
   ]
  },
  {
   "cell_type": "code",
   "execution_count": 1,
   "id": "92baac17",
   "metadata": {
    "_kg_hide-input": true,
    "_kg_hide-output": true,
    "execution": {
     "iopub.execute_input": "2022-10-07T04:10:05.592591Z",
     "iopub.status.busy": "2022-10-07T04:10:05.591532Z",
     "iopub.status.idle": "2022-10-07T04:10:05.653631Z",
     "shell.execute_reply": "2022-10-07T04:10:05.652234Z"
    },
    "papermill": {
     "duration": 0.074036,
     "end_time": "2022-10-07T04:10:05.658538",
     "exception": false,
     "start_time": "2022-10-07T04:10:05.584502",
     "status": "completed"
    },
    "tags": []
   },
   "outputs": [
    {
     "name": "stdout",
     "output_type": "stream",
     "text": [
      "Setup complete.\n"
     ]
    }
   ],
   "source": [
    "# SETUP. You don't need to worry for now about what this code does or how it works.\n",
    "from learntools.core import binder; binder.bind(globals())\n",
    "from learntools.python.ex2 import *\n",
    "print('Setup complete.')"
   ]
  },
  {
   "cell_type": "markdown",
   "id": "2fe78166",
   "metadata": {
    "papermill": {
     "duration": 0.00494,
     "end_time": "2022-10-07T04:10:05.668898",
     "exception": false,
     "start_time": "2022-10-07T04:10:05.663958",
     "status": "completed"
    },
    "tags": []
   },
   "source": [
    "# 1.\n",
    "\n",
    "Complete the body of the following function according to its docstring.\n",
    "\n",
    "HINT: Python has a built-in function `round`."
   ]
  },
  {
   "cell_type": "code",
   "execution_count": 2,
   "id": "72887194",
   "metadata": {
    "execution": {
     "iopub.execute_input": "2022-10-07T04:10:05.681704Z",
     "iopub.status.busy": "2022-10-07T04:10:05.680920Z",
     "iopub.status.idle": "2022-10-07T04:10:05.693363Z",
     "shell.execute_reply": "2022-10-07T04:10:05.692136Z"
    },
    "papermill": {
     "duration": 0.021473,
     "end_time": "2022-10-07T04:10:05.695475",
     "exception": false,
     "start_time": "2022-10-07T04:10:05.674002",
     "status": "completed"
    },
    "tags": []
   },
   "outputs": [
    {
     "data": {
      "application/javascript": [
       "parent.postMessage({\"jupyterEvent\": \"custom.exercise_interaction\", \"data\": {\"outcomeType\": 1, \"valueTowardsCompletion\": 0.16666666666666666, \"interactionType\": 1, \"questionType\": 2, \"questionId\": \"1_RoundFunctionProblem\", \"learnToolsVersion\": \"0.3.4\", \"failureMessage\": \"\", \"exceptionClass\": \"\", \"trace\": \"\"}}, \"*\")"
      ],
      "text/plain": [
       "<IPython.core.display.Javascript object>"
      ]
     },
     "metadata": {},
     "output_type": "display_data"
    },
    {
     "data": {
      "text/markdown": [
       "<span style=\"color:#33cc33\">Correct</span>"
      ],
      "text/plain": [
       "Correct"
      ]
     },
     "metadata": {},
     "output_type": "display_data"
    }
   ],
   "source": [
    "def round_to_two_places(num):\n",
    "    return round(num, 2)\n",
    "    \"\"\"Return the given number rounded to two decimal places. \n",
    "    \n",
    "    >>> round_to_two_places(3.14159)\n",
    "    3.14\n",
    "    \"\"\"\n",
    "    help(round)\n",
    "    # Replace this body with your own code.\n",
    "    # (\"pass\" is a keyword that does literally nothing. We used it as a placeholder\n",
    "    # because after we begin a code block, Python requires at least one line of code)\n",
    "    pass\n",
    "\n",
    "# Check your answer\n",
    "q1.check()"
   ]
  },
  {
   "cell_type": "code",
   "execution_count": 3,
   "id": "8c73b2f1",
   "metadata": {
    "execution": {
     "iopub.execute_input": "2022-10-07T04:10:05.709107Z",
     "iopub.status.busy": "2022-10-07T04:10:05.708337Z",
     "iopub.status.idle": "2022-10-07T04:10:05.714910Z",
     "shell.execute_reply": "2022-10-07T04:10:05.713977Z"
    },
    "papermill": {
     "duration": 0.016814,
     "end_time": "2022-10-07T04:10:05.717900",
     "exception": false,
     "start_time": "2022-10-07T04:10:05.701086",
     "status": "completed"
    },
    "tags": []
   },
   "outputs": [
    {
     "name": "stdout",
     "output_type": "stream",
     "text": [
      "Help on built-in function round in module builtins:\n",
      "\n",
      "round(number, ndigits=None)\n",
      "    Round a number to a given precision in decimal digits.\n",
      "    \n",
      "    The return value is an integer if ndigits is omitted or None.  Otherwise\n",
      "    the return value has the same type as the number.  ndigits may be negative.\n",
      "\n"
     ]
    }
   ],
   "source": [
    "help(round)"
   ]
  },
  {
   "cell_type": "code",
   "execution_count": 4,
   "id": "f42640ab",
   "metadata": {
    "execution": {
     "iopub.execute_input": "2022-10-07T04:10:05.732162Z",
     "iopub.status.busy": "2022-10-07T04:10:05.731459Z",
     "iopub.status.idle": "2022-10-07T04:10:05.739693Z",
     "shell.execute_reply": "2022-10-07T04:10:05.738626Z"
    },
    "papermill": {
     "duration": 0.017702,
     "end_time": "2022-10-07T04:10:05.741960",
     "exception": false,
     "start_time": "2022-10-07T04:10:05.724258",
     "status": "completed"
    },
    "tags": []
   },
   "outputs": [
    {
     "data": {
      "application/javascript": [
       "parent.postMessage({\"jupyterEvent\": \"custom.exercise_interaction\", \"data\": {\"interactionType\": 2, \"questionType\": 2, \"questionId\": \"1_RoundFunctionProblem\", \"learnToolsVersion\": \"0.3.4\", \"valueTowardsCompletion\": 0.0, \"failureMessage\": \"\", \"exceptionClass\": \"\", \"trace\": \"\", \"outcomeType\": 4}}, \"*\")"
      ],
      "text/plain": [
       "<IPython.core.display.Javascript object>"
      ]
     },
     "metadata": {},
     "output_type": "display_data"
    },
    {
     "data": {
      "text/markdown": [
       "<span style=\"color:#3366cc\">Hint:</span> Run `help(round)` in the console (or in a code cell) to learn more about the round function. You'll need to use the function's optional second argument."
      ],
      "text/plain": [
       "Hint: Run `help(round)` in the console (or in a code cell) to learn more about the round function. You'll need to use the function's optional second argument."
      ]
     },
     "metadata": {},
     "output_type": "display_data"
    }
   ],
   "source": [
    "# Uncomment the following for a hint\n",
    "q1.hint()\n",
    "# Or uncomment the following to peek at the solution\n",
    "#q1.solution()"
   ]
  },
  {
   "cell_type": "markdown",
   "id": "31c74e9f",
   "metadata": {
    "papermill": {
     "duration": 0.005381,
     "end_time": "2022-10-07T04:10:05.753101",
     "exception": false,
     "start_time": "2022-10-07T04:10:05.747720",
     "status": "completed"
    },
    "tags": []
   },
   "source": [
    "# 2.\n",
    "The help for `round` says that `ndigits` (the second argument) may be negative.\n",
    "What do you think will happen when it is? Try some examples in the following cell."
   ]
  },
  {
   "cell_type": "code",
   "execution_count": 5,
   "id": "a00f026b",
   "metadata": {
    "execution": {
     "iopub.execute_input": "2022-10-07T04:10:05.767127Z",
     "iopub.status.busy": "2022-10-07T04:10:05.765713Z",
     "iopub.status.idle": "2022-10-07T04:10:05.772121Z",
     "shell.execute_reply": "2022-10-07T04:10:05.770892Z"
    },
    "papermill": {
     "duration": 0.016034,
     "end_time": "2022-10-07T04:10:05.774571",
     "exception": false,
     "start_time": "2022-10-07T04:10:05.758537",
     "status": "completed"
    },
    "tags": []
   },
   "outputs": [
    {
     "name": "stdout",
     "output_type": "stream",
     "text": [
      "122200\n"
     ]
    }
   ],
   "source": [
    "# Put your test code here\n",
    "a = round(122222, -2)\n",
    "print (a)"
   ]
  },
  {
   "cell_type": "markdown",
   "id": "3e14663b",
   "metadata": {
    "papermill": {
     "duration": 0.005384,
     "end_time": "2022-10-07T04:10:05.785804",
     "exception": false,
     "start_time": "2022-10-07T04:10:05.780420",
     "status": "completed"
    },
    "tags": []
   },
   "source": [
    "Can you think of a case where this would be useful?  Once you're ready, run the code cell below to see the answer and to receive credit for completing the problem."
   ]
  },
  {
   "cell_type": "code",
   "execution_count": 6,
   "id": "9660718b",
   "metadata": {
    "execution": {
     "iopub.execute_input": "2022-10-07T04:10:05.799214Z",
     "iopub.status.busy": "2022-10-07T04:10:05.798762Z",
     "iopub.status.idle": "2022-10-07T04:10:05.809285Z",
     "shell.execute_reply": "2022-10-07T04:10:05.807919Z"
    },
    "papermill": {
     "duration": 0.020173,
     "end_time": "2022-10-07T04:10:05.811651",
     "exception": false,
     "start_time": "2022-10-07T04:10:05.791478",
     "status": "completed"
    },
    "tags": []
   },
   "outputs": [
    {
     "data": {
      "application/javascript": [
       "parent.postMessage({\"jupyterEvent\": \"custom.exercise_interaction\", \"data\": {\"interactionType\": 3, \"questionType\": 4, \"questionId\": \"2_RoundNdigitsProblem\", \"learnToolsVersion\": \"0.3.4\", \"valueTowardsCompletion\": 0.0, \"failureMessage\": \"\", \"exceptionClass\": \"\", \"trace\": \"\", \"outcomeType\": 4}}, \"*\")"
      ],
      "text/plain": [
       "<IPython.core.display.Javascript object>"
      ]
     },
     "metadata": {},
     "output_type": "display_data"
    },
    {
     "data": {
      "text/markdown": [
       "<span style=\"color:#33cc99\">Solution:</span> As you've seen, `ndigits=-1` rounds to the nearest 10, `ndigits=-2` rounds to the nearest 100 and so on. Where might this be useful? Suppose we're dealing with large numbers:\n",
       "\n",
       "> The area of Finland is 338,424 km²  \n",
       "> The area of Greenland is 2,166,086 km²\n",
       "\n",
       "We probably don't care whether it's really 338,424, or 338,425, or 338,177. All those digits of accuracy are just distracting. We can chop them off by calling `round()` with `ndigits=-3`:\n",
       "\n",
       "> The area of Finland is 338,000 km²  \n",
       "> The area of Greenland is 2,166,000 km²\n",
       "\n",
       "(We'll talk about how we would get the commas later when we talk about string formatting :))\n"
      ],
      "text/plain": [
       "Solution: As you've seen, `ndigits=-1` rounds to the nearest 10, `ndigits=-2` rounds to the nearest 100 and so on. Where might this be useful? Suppose we're dealing with large numbers:\n",
       "\n",
       "> The area of Finland is 338,424 km²  \n",
       "> The area of Greenland is 2,166,086 km²\n",
       "\n",
       "We probably don't care whether it's really 338,424, or 338,425, or 338,177. All those digits of accuracy are just distracting. We can chop them off by calling `round()` with `ndigits=-3`:\n",
       "\n",
       "> The area of Finland is 338,000 km²  \n",
       "> The area of Greenland is 2,166,000 km²\n",
       "\n",
       "(We'll talk about how we would get the commas later when we talk about string formatting :))"
      ]
     },
     "metadata": {},
     "output_type": "display_data"
    }
   ],
   "source": [
    "# Check your answer (Run this code cell to receive credit!)\n",
    "q2.solution()"
   ]
  },
  {
   "cell_type": "markdown",
   "id": "28af2849",
   "metadata": {
    "papermill": {
     "duration": 0.005725,
     "end_time": "2022-10-07T04:10:05.823305",
     "exception": false,
     "start_time": "2022-10-07T04:10:05.817580",
     "status": "completed"
    },
    "tags": []
   },
   "source": [
    "# 3.\n",
    "\n",
    "In the previous exercise, the candy-sharing friends Alice, Bob and Carol tried to split candies evenly. For the sake of their friendship, any candies left over would be smashed. For example, if they collectively bring home 91 candies, they'll take 30 each and smash 1.\n",
    "\n",
    "Below is a simple function that will calculate the number of candies to smash for *any* number of total candies.\n",
    "\n",
    "Modify it so that it optionally takes a second argument representing the number of friends the candies are being split between. If no second argument is provided, it should assume 3 friends, as before.\n",
    "\n",
    "Update the docstring to reflect this new behaviour."
   ]
  },
  {
   "cell_type": "code",
   "execution_count": 7,
   "id": "a4649040",
   "metadata": {
    "execution": {
     "iopub.execute_input": "2022-10-07T04:10:05.838147Z",
     "iopub.status.busy": "2022-10-07T04:10:05.837699Z",
     "iopub.status.idle": "2022-10-07T04:10:05.849863Z",
     "shell.execute_reply": "2022-10-07T04:10:05.848756Z"
    },
    "papermill": {
     "duration": 0.021756,
     "end_time": "2022-10-07T04:10:05.852059",
     "exception": false,
     "start_time": "2022-10-07T04:10:05.830303",
     "status": "completed"
    },
    "tags": []
   },
   "outputs": [
    {
     "data": {
      "application/javascript": [
       "parent.postMessage({\"jupyterEvent\": \"custom.exercise_interaction\", \"data\": {\"outcomeType\": 1, \"valueTowardsCompletion\": 0.16666666666666666, \"interactionType\": 1, \"questionType\": 2, \"questionId\": \"3_CandySmashingFunctionProblem\", \"learnToolsVersion\": \"0.3.4\", \"failureMessage\": \"\", \"exceptionClass\": \"\", \"trace\": \"\"}}, \"*\")"
      ],
      "text/plain": [
       "<IPython.core.display.Javascript object>"
      ]
     },
     "metadata": {},
     "output_type": "display_data"
    },
    {
     "data": {
      "text/markdown": [
       "<span style=\"color:#33cc33\">Correct</span>"
      ],
      "text/plain": [
       "Correct"
      ]
     },
     "metadata": {},
     "output_type": "display_data"
    }
   ],
   "source": [
    "def to_smash(total_candies, n_friends=3):\n",
    "    return total_candies % n_friends\n",
    "    \"\"\"Return the number of leftover candies that must be smashed after distributing\n",
    "    the given number of candies evenly between 3 friends.\n",
    "    \n",
    "    >>> to_smash(91)\n",
    "    1\n",
    "    \"\"\"\n",
    "    return total_candies % 3\n",
    "\n",
    "# Check your answer\n",
    "q3.check()"
   ]
  },
  {
   "cell_type": "code",
   "execution_count": 8,
   "id": "f0f2d486",
   "metadata": {
    "execution": {
     "iopub.execute_input": "2022-10-07T04:10:05.866382Z",
     "iopub.status.busy": "2022-10-07T04:10:05.865988Z",
     "iopub.status.idle": "2022-10-07T04:10:05.873708Z",
     "shell.execute_reply": "2022-10-07T04:10:05.872948Z"
    },
    "papermill": {
     "duration": 0.017332,
     "end_time": "2022-10-07T04:10:05.875698",
     "exception": false,
     "start_time": "2022-10-07T04:10:05.858366",
     "status": "completed"
    },
    "tags": []
   },
   "outputs": [
    {
     "data": {
      "application/javascript": [
       "parent.postMessage({\"jupyterEvent\": \"custom.exercise_interaction\", \"data\": {\"interactionType\": 2, \"questionType\": 2, \"questionId\": \"3_CandySmashingFunctionProblem\", \"learnToolsVersion\": \"0.3.4\", \"valueTowardsCompletion\": 0.0, \"failureMessage\": \"\", \"exceptionClass\": \"\", \"trace\": \"\", \"outcomeType\": 4}}, \"*\")"
      ],
      "text/plain": [
       "<IPython.core.display.Javascript object>"
      ]
     },
     "metadata": {},
     "output_type": "display_data"
    },
    {
     "data": {
      "text/markdown": [
       "<span style=\"color:#3366cc\">Hint:</span> Refer to the section of the last tutorial notebook where we talked about default arguments"
      ],
      "text/plain": [
       "Hint: Refer to the section of the last tutorial notebook where we talked about default arguments"
      ]
     },
     "metadata": {},
     "output_type": "display_data"
    }
   ],
   "source": [
    "q3.hint()"
   ]
  },
  {
   "cell_type": "code",
   "execution_count": 9,
   "id": "0eb92758",
   "metadata": {
    "execution": {
     "iopub.execute_input": "2022-10-07T04:10:05.890919Z",
     "iopub.status.busy": "2022-10-07T04:10:05.890478Z",
     "iopub.status.idle": "2022-10-07T04:10:05.900526Z",
     "shell.execute_reply": "2022-10-07T04:10:05.899180Z"
    },
    "papermill": {
     "duration": 0.020438,
     "end_time": "2022-10-07T04:10:05.902822",
     "exception": false,
     "start_time": "2022-10-07T04:10:05.882384",
     "status": "completed"
    },
    "tags": []
   },
   "outputs": [
    {
     "data": {
      "application/javascript": [
       "parent.postMessage({\"jupyterEvent\": \"custom.exercise_interaction\", \"data\": {\"interactionType\": 3, \"questionType\": 2, \"questionId\": \"3_CandySmashingFunctionProblem\", \"learnToolsVersion\": \"0.3.4\", \"valueTowardsCompletion\": 0.0, \"failureMessage\": \"\", \"exceptionClass\": \"\", \"trace\": \"\", \"outcomeType\": 4}}, \"*\")"
      ],
      "text/plain": [
       "<IPython.core.display.Javascript object>"
      ]
     },
     "metadata": {},
     "output_type": "display_data"
    },
    {
     "data": {
      "text/markdown": [
       "<span style=\"color:#33cc99\">Solution:</span> \n",
       "```python\n",
       "def to_smash(total_candies, n_friends=3):\n",
       "    return total_candies % n_friends\n",
       "```"
      ],
      "text/plain": [
       "Solution: \n",
       "```python\n",
       "def to_smash(total_candies, n_friends=3):\n",
       "    return total_candies % n_friends\n",
       "```"
      ]
     },
     "metadata": {},
     "output_type": "display_data"
    }
   ],
   "source": [
    "q3.solution()"
   ]
  },
  {
   "cell_type": "markdown",
   "id": "7a0a03f2",
   "metadata": {
    "papermill": {
     "duration": 0.00635,
     "end_time": "2022-10-07T04:10:05.915926",
     "exception": false,
     "start_time": "2022-10-07T04:10:05.909576",
     "status": "completed"
    },
    "tags": []
   },
   "source": [
    "# 4. (Optional)\n",
    "\n",
    "It may not be fun, but reading and understanding error messages will be an important part of your Python career.\n",
    "\n",
    "Each code cell below contains some commented buggy code. For each cell...\n",
    "\n",
    "1. Read the code and predict what you think will happen when it's run.\n",
    "2. Then uncomment the code and run it to see what happens. (**Tip**: In the kernel editor, you can highlight several lines and press `ctrl`+`/` to toggle commenting.)\n",
    "3. Fix the code (so that it accomplishes its intended purpose without throwing an exception)\n",
    "\n",
    "<!-- TODO: should this be autochecked? Delta is probably pretty small. -->"
   ]
  },
  {
   "cell_type": "code",
   "execution_count": 10,
   "id": "ed923b9e",
   "metadata": {
    "execution": {
     "iopub.execute_input": "2022-10-07T04:10:05.930723Z",
     "iopub.status.busy": "2022-10-07T04:10:05.930311Z",
     "iopub.status.idle": "2022-10-07T04:10:05.937722Z",
     "shell.execute_reply": "2022-10-07T04:10:05.936388Z"
    },
    "papermill": {
     "duration": 0.017997,
     "end_time": "2022-10-07T04:10:05.940476",
     "exception": false,
     "start_time": "2022-10-07T04:10:05.922479",
     "status": "completed"
    },
    "tags": []
   },
   "outputs": [
    {
     "data": {
      "text/plain": [
       "10.0"
      ]
     },
     "execution_count": 10,
     "metadata": {},
     "output_type": "execute_result"
    }
   ],
   "source": [
    "round(9.9999, 2)"
   ]
  },
  {
   "cell_type": "code",
   "execution_count": 11,
   "id": "b130d38b",
   "metadata": {
    "execution": {
     "iopub.execute_input": "2022-10-07T04:10:05.956392Z",
     "iopub.status.busy": "2022-10-07T04:10:05.955917Z",
     "iopub.status.idle": "2022-10-07T04:10:05.963428Z",
     "shell.execute_reply": "2022-10-07T04:10:05.961948Z"
    },
    "papermill": {
     "duration": 0.018487,
     "end_time": "2022-10-07T04:10:05.966013",
     "exception": false,
     "start_time": "2022-10-07T04:10:05.947526",
     "status": "completed"
    },
    "tags": []
   },
   "outputs": [
    {
     "name": "stdout",
     "output_type": "stream",
     "text": [
      "5\n"
     ]
    }
   ],
   "source": [
    "def smallest_abs(x, y):\n",
    "        a = abs(x)\n",
    "        b = abs(y)\n",
    "        if a<b:\n",
    "            print(x)\n",
    "        elif b<a:\n",
    "            print(y)\n",
    "\n",
    "smallest_abs(-10, 5)\n"
   ]
  },
  {
   "cell_type": "code",
   "execution_count": 12,
   "id": "565c058e",
   "metadata": {
    "execution": {
     "iopub.execute_input": "2022-10-07T04:10:05.981278Z",
     "iopub.status.busy": "2022-10-07T04:10:05.980898Z",
     "iopub.status.idle": "2022-10-07T04:10:05.987220Z",
     "shell.execute_reply": "2022-10-07T04:10:05.985753Z"
    },
    "papermill": {
     "duration": 0.01694,
     "end_time": "2022-10-07T04:10:05.989666",
     "exception": false,
     "start_time": "2022-10-07T04:10:05.972726",
     "status": "completed"
    },
    "tags": []
   },
   "outputs": [
    {
     "name": "stdout",
     "output_type": "stream",
     "text": [
      "5\n"
     ]
    }
   ],
   "source": [
    "def f(x):\n",
    "    y = abs(x)\n",
    "    return y\n",
    "\n",
    "print(f(5))"
   ]
  },
  {
   "cell_type": "markdown",
   "id": "a5e0dec9",
   "metadata": {
    "papermill": {
     "duration": 0.008072,
     "end_time": "2022-10-07T04:10:06.004536",
     "exception": false,
     "start_time": "2022-10-07T04:10:05.996464",
     "status": "completed"
    },
    "tags": []
   },
   "source": [
    "# Keep Going\n",
    "\n",
    "Nice job with the code. Next up, you'll learn about *conditionals*, which you'll need to **[write interesting programs](https://www.kaggle.com/colinmorris/booleans-and-conditionals)**. "
   ]
  },
  {
   "cell_type": "markdown",
   "id": "ee7030aa",
   "metadata": {
    "papermill": {
     "duration": 0.006709,
     "end_time": "2022-10-07T04:10:06.018843",
     "exception": false,
     "start_time": "2022-10-07T04:10:06.012134",
     "status": "completed"
    },
    "tags": []
   },
   "source": [
    "---\n",
    "\n",
    "\n",
    "\n",
    "\n",
    "*Have questions or comments? Visit the [course discussion forum](https://www.kaggle.com/learn/python/discussion) to chat with other learners.*"
   ]
  }
 ],
 "metadata": {
  "kernelspec": {
   "display_name": "Python 3",
   "language": "python",
   "name": "python3"
  },
  "language_info": {
   "codemirror_mode": {
    "name": "ipython",
    "version": 3
   },
   "file_extension": ".py",
   "mimetype": "text/x-python",
   "name": "python",
   "nbconvert_exporter": "python",
   "pygments_lexer": "ipython3",
   "version": "3.7.12"
  },
  "papermill": {
   "default_parameters": {},
   "duration": 11.14544,
   "end_time": "2022-10-07T04:10:06.950208",
   "environment_variables": {},
   "exception": null,
   "input_path": "__notebook__.ipynb",
   "output_path": "__notebook__.ipynb",
   "parameters": {},
   "start_time": "2022-10-07T04:09:55.804768",
   "version": "2.3.4"
  }
 },
 "nbformat": 4,
 "nbformat_minor": 5
}
