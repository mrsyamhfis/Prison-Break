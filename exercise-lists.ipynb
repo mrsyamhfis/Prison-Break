{
 "cells": [
  {
   "cell_type": "markdown",
   "id": "08b5c144",
   "metadata": {
    "papermill": {
     "duration": 0.005992,
     "end_time": "2023-01-27T04:57:57.556334",
     "exception": false,
     "start_time": "2023-01-27T04:57:57.550342",
     "status": "completed"
    },
    "tags": []
   },
   "source": [
    "**This notebook is an exercise in the [Python](https://www.kaggle.com/learn/python) course.  You can reference the tutorial at [this link](https://www.kaggle.com/colinmorris/lists).**\n",
    "\n",
    "---\n"
   ]
  },
  {
   "cell_type": "markdown",
   "id": "f030dbb0",
   "metadata": {
    "papermill": {
     "duration": 0.004616,
     "end_time": "2023-01-27T04:57:57.566247",
     "exception": false,
     "start_time": "2023-01-27T04:57:57.561631",
     "status": "completed"
    },
    "tags": []
   },
   "source": [
    "Things get more interesting with lists. You'll apply your new knowledge to solve the questions below. Remember to run the following cell first."
   ]
  },
  {
   "cell_type": "code",
   "execution_count": 1,
   "id": "fcf255e8",
   "metadata": {
    "execution": {
     "iopub.execute_input": "2023-01-27T04:57:57.578933Z",
     "iopub.status.busy": "2023-01-27T04:57:57.577936Z",
     "iopub.status.idle": "2023-01-27T04:57:57.640170Z",
     "shell.execute_reply": "2023-01-27T04:57:57.638856Z"
    },
    "papermill": {
     "duration": 0.07237,
     "end_time": "2023-01-27T04:57:57.643567",
     "exception": false,
     "start_time": "2023-01-27T04:57:57.571197",
     "status": "completed"
    },
    "tags": []
   },
   "outputs": [
    {
     "name": "stdout",
     "output_type": "stream",
     "text": [
      "Setup complete.\n"
     ]
    }
   ],
   "source": [
    "from learntools.core import binder; binder.bind(globals())\n",
    "from learntools.python.ex4 import *\n",
    "print('Setup complete.')"
   ]
  },
  {
   "cell_type": "markdown",
   "id": "6a4015cd",
   "metadata": {
    "papermill": {
     "duration": 0.004774,
     "end_time": "2023-01-27T04:57:57.653418",
     "exception": false,
     "start_time": "2023-01-27T04:57:57.648644",
     "status": "completed"
    },
    "tags": []
   },
   "source": [
    "# 1.\n",
    "\n",
    "Complete the function below according to its docstring."
   ]
  },
  {
   "cell_type": "code",
   "execution_count": 2,
   "id": "13e0535d",
   "metadata": {
    "execution": {
     "iopub.execute_input": "2023-01-27T04:57:57.665200Z",
     "iopub.status.busy": "2023-01-27T04:57:57.664803Z",
     "iopub.status.idle": "2023-01-27T04:57:57.677615Z",
     "shell.execute_reply": "2023-01-27T04:57:57.676223Z"
    },
    "papermill": {
     "duration": 0.021832,
     "end_time": "2023-01-27T04:57:57.680208",
     "exception": false,
     "start_time": "2023-01-27T04:57:57.658376",
     "status": "completed"
    },
    "tags": []
   },
   "outputs": [
    {
     "data": {
      "application/javascript": [
       "parent.postMessage({\"jupyterEvent\": \"custom.exercise_interaction\", \"data\": {\"outcomeType\": 1, \"valueTowardsCompletion\": 0.2, \"interactionType\": 1, \"questionType\": 2, \"questionId\": \"1_SelectSecondItem\", \"learnToolsVersion\": \"0.3.4\", \"failureMessage\": \"\", \"exceptionClass\": \"\", \"trace\": \"\"}}, \"*\")"
      ],
      "text/plain": [
       "<IPython.core.display.Javascript object>"
      ]
     },
     "metadata": {},
     "output_type": "display_data"
    },
    {
     "data": {
      "text/markdown": [
       "<span style=\"color:#33cc33\">Correct</span>"
      ],
      "text/plain": [
       "Correct"
      ]
     },
     "metadata": {},
     "output_type": "display_data"
    }
   ],
   "source": [
    "def select_second(L):\n",
    "    if len(L) < 2:\n",
    "        return None\n",
    "    return L[1]\n",
    "    pass\n",
    "\n",
    "# Check your answer\n",
    "q1.check()"
   ]
  },
  {
   "cell_type": "code",
   "execution_count": 3,
   "id": "edaa32be",
   "metadata": {
    "execution": {
     "iopub.execute_input": "2023-01-27T04:57:57.692704Z",
     "iopub.status.busy": "2023-01-27T04:57:57.692285Z",
     "iopub.status.idle": "2023-01-27T04:57:57.697381Z",
     "shell.execute_reply": "2023-01-27T04:57:57.695946Z"
    },
    "papermill": {
     "duration": 0.014311,
     "end_time": "2023-01-27T04:57:57.699913",
     "exception": false,
     "start_time": "2023-01-27T04:57:57.685602",
     "status": "completed"
    },
    "tags": []
   },
   "outputs": [],
   "source": [
    "#q1.hint()\n",
    "#q1.solution()"
   ]
  },
  {
   "cell_type": "markdown",
   "id": "5e908108",
   "metadata": {
    "papermill": {
     "duration": 0.005379,
     "end_time": "2023-01-27T04:57:57.711264",
     "exception": false,
     "start_time": "2023-01-27T04:57:57.705885",
     "status": "completed"
    },
    "tags": []
   },
   "source": [
    "# 2.\n",
    "\n",
    "You are analyzing sports teams.  Members of each team are stored in a list. The Coach is the first name in the list, the captain is the second name in the list, and other players are listed after that. \n",
    "These lists are stored in another list, which starts with the best team and proceeds through the list to the worst team last.  Complete the function below to select the **captain** of the worst team."
   ]
  },
  {
   "cell_type": "code",
   "execution_count": 4,
   "id": "918a3c1a",
   "metadata": {
    "execution": {
     "iopub.execute_input": "2023-01-27T04:57:57.723986Z",
     "iopub.status.busy": "2023-01-27T04:57:57.723546Z",
     "iopub.status.idle": "2023-01-27T04:57:57.734379Z",
     "shell.execute_reply": "2023-01-27T04:57:57.732976Z"
    },
    "papermill": {
     "duration": 0.020305,
     "end_time": "2023-01-27T04:57:57.737024",
     "exception": false,
     "start_time": "2023-01-27T04:57:57.716719",
     "status": "completed"
    },
    "tags": []
   },
   "outputs": [
    {
     "data": {
      "application/javascript": [
       "parent.postMessage({\"jupyterEvent\": \"custom.exercise_interaction\", \"data\": {\"outcomeType\": 1, \"valueTowardsCompletion\": 0.2, \"interactionType\": 1, \"questionType\": 2, \"questionId\": \"2_LosingTeamCaptain\", \"learnToolsVersion\": \"0.3.4\", \"failureMessage\": \"\", \"exceptionClass\": \"\", \"trace\": \"\"}}, \"*\")"
      ],
      "text/plain": [
       "<IPython.core.display.Javascript object>"
      ]
     },
     "metadata": {},
     "output_type": "display_data"
    },
    {
     "data": {
      "text/markdown": [
       "<span style=\"color:#33cc33\">Correct</span>"
      ],
      "text/plain": [
       "Correct"
      ]
     },
     "metadata": {},
     "output_type": "display_data"
    }
   ],
   "source": [
    "def losing_team_captain(teams):\n",
    "    return teams[-1][1]\n",
    "    \"\"\"Given a list of teams, where each team is a list of names, return the 2nd player (captain)\n",
    "    from the last listed team\n",
    "    \"\"\"\n",
    "    pass\n",
    "\n",
    "# Check your answer\n",
    "q2.check()"
   ]
  },
  {
   "cell_type": "code",
   "execution_count": 5,
   "id": "b6c1f9df",
   "metadata": {
    "execution": {
     "iopub.execute_input": "2023-01-27T04:57:57.751057Z",
     "iopub.status.busy": "2023-01-27T04:57:57.750349Z",
     "iopub.status.idle": "2023-01-27T04:57:57.760032Z",
     "shell.execute_reply": "2023-01-27T04:57:57.758749Z"
    },
    "papermill": {
     "duration": 0.019007,
     "end_time": "2023-01-27T04:57:57.762450",
     "exception": false,
     "start_time": "2023-01-27T04:57:57.743443",
     "status": "completed"
    },
    "tags": []
   },
   "outputs": [
    {
     "data": {
      "application/javascript": [
       "parent.postMessage({\"jupyterEvent\": \"custom.exercise_interaction\", \"data\": {\"interactionType\": 2, \"questionType\": 2, \"questionId\": \"2_LosingTeamCaptain\", \"learnToolsVersion\": \"0.3.4\", \"valueTowardsCompletion\": 0.0, \"failureMessage\": \"\", \"exceptionClass\": \"\", \"trace\": \"\", \"outcomeType\": 4}}, \"*\")"
      ],
      "text/plain": [
       "<IPython.core.display.Javascript object>"
      ]
     },
     "metadata": {},
     "output_type": "display_data"
    },
    {
     "data": {
      "text/markdown": [
       "<span style=\"color:#3366cc\">Hint:</span> The last item in a list `L` can be selected with `L[-1]`. The first item in the first sublist would be selected as `L[0][0]`"
      ],
      "text/plain": [
       "Hint: The last item in a list `L` can be selected with `L[-1]`. The first item in the first sublist would be selected as `L[0][0]`"
      ]
     },
     "metadata": {},
     "output_type": "display_data"
    }
   ],
   "source": [
    "q2.hint()\n",
    "#q2.solution()"
   ]
  },
  {
   "cell_type": "markdown",
   "id": "25ecfae6",
   "metadata": {
    "papermill": {
     "duration": 0.005683,
     "end_time": "2023-01-27T04:57:57.773970",
     "exception": false,
     "start_time": "2023-01-27T04:57:57.768287",
     "status": "completed"
    },
    "tags": []
   },
   "source": [
    "# 3.\n",
    "\n",
    "The next iteration of Mario Kart will feature an extra-infuriating new item, the *Purple Shell*. When used, it warps the last place racer into first place and the first place racer into last place. Complete the function below to implement the Purple Shell's effect."
   ]
  },
  {
   "cell_type": "code",
   "execution_count": 6,
   "id": "7aa1dec8",
   "metadata": {
    "execution": {
     "iopub.execute_input": "2023-01-27T04:57:57.787251Z",
     "iopub.status.busy": "2023-01-27T04:57:57.786842Z",
     "iopub.status.idle": "2023-01-27T04:57:57.797153Z",
     "shell.execute_reply": "2023-01-27T04:57:57.796229Z"
    },
    "papermill": {
     "duration": 0.019906,
     "end_time": "2023-01-27T04:57:57.799555",
     "exception": false,
     "start_time": "2023-01-27T04:57:57.779649",
     "status": "completed"
    },
    "tags": []
   },
   "outputs": [
    {
     "data": {
      "application/javascript": [
       "parent.postMessage({\"jupyterEvent\": \"custom.exercise_interaction\", \"data\": {\"outcomeType\": 1, \"valueTowardsCompletion\": 0.2, \"interactionType\": 1, \"questionType\": 2, \"questionId\": \"3_PurpleShell\", \"learnToolsVersion\": \"0.3.4\", \"failureMessage\": \"\", \"exceptionClass\": \"\", \"trace\": \"\"}}, \"*\")"
      ],
      "text/plain": [
       "<IPython.core.display.Javascript object>"
      ]
     },
     "metadata": {},
     "output_type": "display_data"
    },
    {
     "data": {
      "text/markdown": [
       "<span style=\"color:#33cc33\">Correct</span>"
      ],
      "text/plain": [
       "Correct"
      ]
     },
     "metadata": {},
     "output_type": "display_data"
    }
   ],
   "source": [
    "def purple_shell(racers):\n",
    "    temporary = racers[0]\n",
    "    racers[0] = racers[-1]\n",
    "    racers[-1] = temporary\n",
    "        \n",
    "    \"\"\"Given a list of racers, set the first place racer (at the front of the list) to last\n",
    "    place and vice versa.\n",
    "    \n",
    "    >>> r = [\"Mario\", \"Bowser\", \"Luigi\"]\n",
    "    >>> purple_shell(r)\n",
    "    >>> r\n",
    "    [\"Luigi\", \"Bowser\", \"Mario\"]\n",
    "    \"\"\"\n",
    "    pass\n",
    "\n",
    "# Check your answer\n",
    "q3.check()"
   ]
  },
  {
   "cell_type": "code",
   "execution_count": 7,
   "id": "0a96643c",
   "metadata": {
    "execution": {
     "iopub.execute_input": "2023-01-27T04:57:57.813484Z",
     "iopub.status.busy": "2023-01-27T04:57:57.813029Z",
     "iopub.status.idle": "2023-01-27T04:57:57.822603Z",
     "shell.execute_reply": "2023-01-27T04:57:57.821379Z"
    },
    "papermill": {
     "duration": 0.01963,
     "end_time": "2023-01-27T04:57:57.825361",
     "exception": false,
     "start_time": "2023-01-27T04:57:57.805731",
     "status": "completed"
    },
    "tags": []
   },
   "outputs": [
    {
     "data": {
      "application/javascript": [
       "parent.postMessage({\"jupyterEvent\": \"custom.exercise_interaction\", \"data\": {\"interactionType\": 2, \"questionType\": 2, \"questionId\": \"3_PurpleShell\", \"learnToolsVersion\": \"0.3.4\", \"valueTowardsCompletion\": 0.0, \"failureMessage\": \"\", \"exceptionClass\": \"\", \"trace\": \"\", \"outcomeType\": 4}}, \"*\")"
      ],
      "text/plain": [
       "<IPython.core.display.Javascript object>"
      ]
     },
     "metadata": {},
     "output_type": "display_data"
    },
    {
     "data": {
      "text/markdown": [
       "<span style=\"color:#3366cc\">Hint:</span> Your function should change the list it receives, but not return anything\n",
       "\n",
       "To swap the list elements, think back to the code you used in the very first exercise to swap two variables."
      ],
      "text/plain": [
       "Hint: Your function should change the list it receives, but not return anything\n",
       "\n",
       "To swap the list elements, think back to the code you used in the very first exercise to swap two variables."
      ]
     },
     "metadata": {},
     "output_type": "display_data"
    }
   ],
   "source": [
    "q3.hint()\n",
    "#q3.solution()"
   ]
  },
  {
   "cell_type": "markdown",
   "id": "32777663",
   "metadata": {
    "papermill": {
     "duration": 0.005849,
     "end_time": "2023-01-27T04:57:57.837528",
     "exception": false,
     "start_time": "2023-01-27T04:57:57.831679",
     "status": "completed"
    },
    "tags": []
   },
   "source": [
    "# 4.\n",
    "\n",
    "What are the lengths of the following lists? Fill in the variable `lengths` with your predictions. (Try to make a prediction for each list *without* just calling `len()` on it.)"
   ]
  },
  {
   "cell_type": "code",
   "execution_count": 8,
   "id": "06d23047",
   "metadata": {
    "execution": {
     "iopub.execute_input": "2023-01-27T04:57:57.852878Z",
     "iopub.status.busy": "2023-01-27T04:57:57.852435Z",
     "iopub.status.idle": "2023-01-27T04:57:57.862130Z",
     "shell.execute_reply": "2023-01-27T04:57:57.861169Z"
    },
    "papermill": {
     "duration": 0.019936,
     "end_time": "2023-01-27T04:57:57.864376",
     "exception": false,
     "start_time": "2023-01-27T04:57:57.844440",
     "status": "completed"
    },
    "tags": []
   },
   "outputs": [
    {
     "data": {
      "application/javascript": [
       "parent.postMessage({\"jupyterEvent\": \"custom.exercise_interaction\", \"data\": {\"outcomeType\": 1, \"valueTowardsCompletion\": 0.2, \"interactionType\": 1, \"questionType\": 1, \"questionId\": \"4_UnderstandLen\", \"learnToolsVersion\": \"0.3.4\", \"failureMessage\": \"\", \"exceptionClass\": \"\", \"trace\": \"\"}}, \"*\")"
      ],
      "text/plain": [
       "<IPython.core.display.Javascript object>"
      ]
     },
     "metadata": {},
     "output_type": "display_data"
    },
    {
     "data": {
      "text/markdown": [
       "<span style=\"color:#33cc33\">Correct:</span> \n",
       "\n",
       "\n",
       "- a: There are three items in this list. Nothing tricky yet.\n",
       "- b: The list `[2, 3]` counts as a single item. It has one item before it. So we have 2 items in the list\n",
       "- c: The empty list has 0 items\n",
       "- d: The expression is the same as the list `[2, 3]`, which has length 2."
      ],
      "text/plain": [
       "Correct: \n",
       "\n",
       "\n",
       "- a: There are three items in this list. Nothing tricky yet.\n",
       "- b: The list `[2, 3]` counts as a single item. It has one item before it. So we have 2 items in the list\n",
       "- c: The empty list has 0 items\n",
       "- d: The expression is the same as the list `[2, 3]`, which has length 2."
      ]
     },
     "metadata": {},
     "output_type": "display_data"
    }
   ],
   "source": [
    "a = [1, 2, 3]\n",
    "b = [1, [2, 3]]\n",
    "c = []\n",
    "d = [1, 2, 3][1:]\n",
    "\n",
    "# Put your predictions in the list below. Lengths should contain 4 numbers, the\n",
    "# first being the length of a, the second being the length of b and so on.\n",
    "lengths = [3, 2, 0, 2]\n",
    "\n",
    "# Check your answer\n",
    "q4.check()"
   ]
  },
  {
   "cell_type": "code",
   "execution_count": 9,
   "id": "15e80b86",
   "metadata": {
    "execution": {
     "iopub.execute_input": "2023-01-27T04:57:57.881503Z",
     "iopub.status.busy": "2023-01-27T04:57:57.879453Z",
     "iopub.status.idle": "2023-01-27T04:57:57.887020Z",
     "shell.execute_reply": "2023-01-27T04:57:57.885575Z"
    },
    "papermill": {
     "duration": 0.018773,
     "end_time": "2023-01-27T04:57:57.889786",
     "exception": false,
     "start_time": "2023-01-27T04:57:57.871013",
     "status": "completed"
    },
    "tags": []
   },
   "outputs": [],
   "source": [
    "# line below provides some explanation\n",
    "#q4.solution()"
   ]
  },
  {
   "cell_type": "markdown",
   "id": "4ba79413",
   "metadata": {
    "papermill": {
     "duration": 0.006338,
     "end_time": "2023-01-27T04:57:57.902918",
     "exception": false,
     "start_time": "2023-01-27T04:57:57.896580",
     "status": "completed"
    },
    "tags": []
   },
   "source": [
    "# 5. <span title=\"A bit spicy\" style=\"color: darkgreen \">🌶️</span>\n",
    "\n",
    "We're using lists to record people who attended our party and what order they arrived in. For example, the following list represents a party with 7 guests, in which Adela showed up first and Ford was the last to arrive:\n",
    "\n",
    "    party_attendees = ['Adela', 'Fleda', 'Owen', 'May', 'Mona', 'Gilbert', 'Ford']\n",
    "\n",
    "A guest is considered 'fashionably late' if they arrived after at least half of the party's guests. However, they must not be the very last guest (that's taking it too far). In the above example, Mona and Gilbert are the only guests who were fashionably late.\n",
    "\n",
    "Complete the function below which takes a list of party attendees as well as a person, and tells us whether that person is fashionably late."
   ]
  },
  {
   "cell_type": "code",
   "execution_count": 10,
   "id": "afcd178d",
   "metadata": {
    "execution": {
     "iopub.execute_input": "2023-01-27T04:57:57.918358Z",
     "iopub.status.busy": "2023-01-27T04:57:57.917948Z",
     "iopub.status.idle": "2023-01-27T04:57:57.929422Z",
     "shell.execute_reply": "2023-01-27T04:57:57.928279Z"
    },
    "papermill": {
     "duration": 0.021734,
     "end_time": "2023-01-27T04:57:57.931985",
     "exception": false,
     "start_time": "2023-01-27T04:57:57.910251",
     "status": "completed"
    },
    "tags": []
   },
   "outputs": [
    {
     "data": {
      "application/javascript": [
       "parent.postMessage({\"jupyterEvent\": \"custom.exercise_interaction\", \"data\": {\"outcomeType\": 1, \"valueTowardsCompletion\": 0.2, \"interactionType\": 1, \"questionType\": 2, \"questionId\": \"5_FashionablyLate\", \"learnToolsVersion\": \"0.3.4\", \"failureMessage\": \"\", \"exceptionClass\": \"\", \"trace\": \"\"}}, \"*\")"
      ],
      "text/plain": [
       "<IPython.core.display.Javascript object>"
      ]
     },
     "metadata": {},
     "output_type": "display_data"
    },
    {
     "data": {
      "text/markdown": [
       "<span style=\"color:#33cc33\">Correct</span>"
      ],
      "text/plain": [
       "Correct"
      ]
     },
     "metadata": {},
     "output_type": "display_data"
    }
   ],
   "source": [
    "def fashionably_late(arrivals, name):\n",
    "    order = arrivals.index(name)\n",
    "    return order >= len(arrivals) / 2 and order != len(arrivals) - 1\n",
    "        \n",
    "    \"\"\"Given an ordered list of arrivals to the party and a name, return whether the guest with that\n",
    "    name was fashionably late.\n",
    "    \"\"\"\n",
    "    pass\n",
    "\n",
    "# Check your answer\n",
    "q5.check()"
   ]
  },
  {
   "cell_type": "code",
   "execution_count": 11,
   "id": "4f4c96f3",
   "metadata": {
    "execution": {
     "iopub.execute_input": "2023-01-27T04:57:57.948102Z",
     "iopub.status.busy": "2023-01-27T04:57:57.947646Z",
     "iopub.status.idle": "2023-01-27T04:57:57.952744Z",
     "shell.execute_reply": "2023-01-27T04:57:57.951496Z"
    },
    "papermill": {
     "duration": 0.016246,
     "end_time": "2023-01-27T04:57:57.955378",
     "exception": false,
     "start_time": "2023-01-27T04:57:57.939132",
     "status": "completed"
    },
    "tags": []
   },
   "outputs": [],
   "source": [
    "#q5.hint()\n",
    "#q5.solution()"
   ]
  },
  {
   "cell_type": "markdown",
   "id": "fac008fb",
   "metadata": {
    "papermill": {
     "duration": 0.006609,
     "end_time": "2023-01-27T04:57:57.968850",
     "exception": false,
     "start_time": "2023-01-27T04:57:57.962241",
     "status": "completed"
    },
    "tags": []
   },
   "source": [
    "# Keep Going\n",
    "\n",
    "That's it for lists and tuples! Now you have the baseline knowledge to **[learn about loops](https://www.kaggle.com/colinmorris/loops-and-list-comprehensions)**, which is where lists and tuples get really interesting. "
   ]
  },
  {
   "cell_type": "markdown",
   "id": "6d962f86",
   "metadata": {
    "papermill": {
     "duration": 0.00631,
     "end_time": "2023-01-27T04:57:57.981846",
     "exception": false,
     "start_time": "2023-01-27T04:57:57.975536",
     "status": "completed"
    },
    "tags": []
   },
   "source": [
    "---\n",
    "\n",
    "\n",
    "\n",
    "\n",
    "*Have questions or comments? Visit the [course discussion forum](https://www.kaggle.com/learn/python/discussion) to chat with other learners.*"
   ]
  }
 ],
 "metadata": {
  "kernelspec": {
   "display_name": "Python 3",
   "language": "python",
   "name": "python3"
  },
  "language_info": {
   "codemirror_mode": {
    "name": "ipython",
    "version": 3
   },
   "file_extension": ".py",
   "mimetype": "text/x-python",
   "name": "python",
   "nbconvert_exporter": "python",
   "pygments_lexer": "ipython3",
   "version": "3.7.12"
  },
  "papermill": {
   "default_parameters": {},
   "duration": 12.411804,
   "end_time": "2023-01-27T04:57:58.711681",
   "environment_variables": {},
   "exception": null,
   "input_path": "__notebook__.ipynb",
   "output_path": "__notebook__.ipynb",
   "parameters": {},
   "start_time": "2023-01-27T04:57:46.299877",
   "version": "2.3.4"
  }
 },
 "nbformat": 4,
 "nbformat_minor": 5
}
